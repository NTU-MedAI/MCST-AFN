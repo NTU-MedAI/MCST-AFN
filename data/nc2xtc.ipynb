{
 "cells": [
  {
   "cell_type": "markdown",
   "metadata": {},
   "source": [
    "### 读取nc文件"
   ]
  },
  {
   "cell_type": "code",
   "execution_count": 17,
   "metadata": {},
   "outputs": [
    {
     "name": "stdout",
     "output_type": "stream",
     "text": [
      "Looking in indexes: https://pypi.tuna.tsinghua.edu.cn/simple\r\n",
      "Collecting parmed\r\n",
      "  Downloading https://pypi.tuna.tsinghua.edu.cn/packages/dc/85/01007d38fe0945398c5e0ec7c7ce2d9cc433289bf05e32393c8e48e71cd4/ParmEd-4.1.0.tar.gz (2.2 MB)\r\n",
      "\u001B[2K     \u001B[90m━━━━━━━━━━━━━━━━━━━━━━━━━━━━━━━━━━━━━━━━\u001B[0m \u001B[32m2.2/2.2 MB\u001B[0m \u001B[31m7.9 MB/s\u001B[0m eta \u001B[36m0:00:00\u001B[0m00:01\u001B[0m00:01\u001B[0m0m\r\n",
      "\u001B[?25h  Preparing metadata (setup.py) ... \u001B[?25ldone\r\n",
      "\u001B[?25hBuilding wheels for collected packages: parmed\r\n",
      "  Building wheel for parmed (setup.py) ... \u001B[?25ldone\r\n",
      "\u001B[?25h  Created wheel for parmed: filename=ParmEd-4.1.0-cp39-cp39-linux_x86_64.whl size=1250041 sha256=fc70aed221839313ea1140dcce21166e14918ff1a4d6cd631f707c31f41cebd0\r\n",
      "  Stored in directory: /home/ntu/.cache/pip/wheels/2a/eb/6a/8ec682dfe161fa89e821756f0c7244f820be751556a10c3b38\r\n",
      "Successfully built parmed\r\n",
      "Installing collected packages: parmed\r\n",
      "Successfully installed parmed-4.1.0\r\n",
      "Note: you may need to restart the kernel to use updated packages.\n"
     ]
    }
   ],
   "source": [
    "pip install parmed"
   ]
  },
  {
   "cell_type": "code",
   "execution_count": 23,
   "metadata": {},
   "outputs": [],
   "source": [
    "import netCDF4\n",
    "from netCDF4 import Dataset\n",
    "import parmed as pmd"
   ]
  },
  {
   "cell_type": "code",
   "execution_count": 31,
   "metadata": {},
   "outputs": [
    {
     "ename": "AttributeError",
     "evalue": "NetCDF: Attribute not found",
     "output_type": "error",
     "traceback": [
      "\u001B[0;31m---------------------------------------------------------------------------\u001B[0m",
      "\u001B[0;31mAttributeError\u001B[0m                            Traceback (most recent call last)",
      "Cell \u001B[0;32mIn[31], line 3\u001B[0m\n\u001B[1;32m      1\u001B[0m data\u001B[38;5;241m=\u001B[39mDataset(\u001B[38;5;124m'\u001B[39m\u001B[38;5;124m../data/drug_1_no_solvent.nc\u001B[39m\u001B[38;5;124m'\u001B[39m)\n\u001B[1;32m      2\u001B[0m data\n\u001B[0;32m----> 3\u001B[0m structure \u001B[38;5;241m=\u001B[39m \u001B[43mpmd\u001B[49m\u001B[38;5;241;43m.\u001B[39;49m\u001B[43mload_file\u001B[49m\u001B[43m(\u001B[49m\u001B[43mdata\u001B[49m\u001B[43m)\u001B[49m\n",
      "File \u001B[0;32m~/anaconda3/envs/md/lib/python3.9/site-packages/parmed/formats/registry.py:160\u001B[0m, in \u001B[0;36mload_file\u001B[0;34m(filename, *args, **kwargs)\u001B[0m\n\u001B[1;32m    157\u001B[0m \u001B[38;5;28;01mglobal\u001B[39;00m PARSER_REGISTRY, PARSER_ARGUMENTS\n\u001B[1;32m    159\u001B[0m \u001B[38;5;66;03m# Check that the file actually exists and that we can read it\u001B[39;00m\n\u001B[0;32m--> 160\u001B[0m \u001B[38;5;28;01mif\u001B[39;00m \u001B[43mfilename\u001B[49m\u001B[38;5;241;43m.\u001B[39;49m\u001B[43mstartswith\u001B[49m(\u001B[38;5;124m'\u001B[39m\u001B[38;5;124mhttp://\u001B[39m\u001B[38;5;124m'\u001B[39m) \u001B[38;5;129;01mor\u001B[39;00m filename\u001B[38;5;241m.\u001B[39mstartswith(\u001B[38;5;124m'\u001B[39m\u001B[38;5;124mhttps://\u001B[39m\u001B[38;5;124m'\u001B[39m)\\\n\u001B[1;32m    161\u001B[0m         \u001B[38;5;129;01mor\u001B[39;00m filename\u001B[38;5;241m.\u001B[39mstartswith(\u001B[38;5;124m'\u001B[39m\u001B[38;5;124mftp://\u001B[39m\u001B[38;5;124m'\u001B[39m):\n\u001B[1;32m    162\u001B[0m     \u001B[38;5;66;03m# This raises IOError if it does not exist; assert silences linters\u001B[39;00m\n\u001B[1;32m    163\u001B[0m     \u001B[38;5;28;01mwith\u001B[39;00m closing(genopen(filename)) \u001B[38;5;28;01mas\u001B[39;00m f:\n\u001B[1;32m    164\u001B[0m         \u001B[38;5;28;01massert\u001B[39;00m f\n",
      "File \u001B[0;32msrc/netCDF4/_netCDF4.pyx:3141\u001B[0m, in \u001B[0;36mnetCDF4._netCDF4.Dataset.__getattr__\u001B[0;34m()\u001B[0m\n",
      "File \u001B[0;32msrc/netCDF4/_netCDF4.pyx:3082\u001B[0m, in \u001B[0;36mnetCDF4._netCDF4.Dataset.getncattr\u001B[0;34m()\u001B[0m\n",
      "File \u001B[0;32msrc/netCDF4/_netCDF4.pyx:1532\u001B[0m, in \u001B[0;36mnetCDF4._netCDF4._get_att\u001B[0;34m()\u001B[0m\n",
      "File \u001B[0;32msrc/netCDF4/_netCDF4.pyx:2028\u001B[0m, in \u001B[0;36mnetCDF4._netCDF4._ensure_nc_success\u001B[0;34m()\u001B[0m\n",
      "\u001B[0;31mAttributeError\u001B[0m: NetCDF: Attribute not found"
     ]
    }
   ],
   "source": [
    "data=Dataset('../data/drug_1_no_solvent.nc')\n",
    "data\n"
   ]
  },
  {
   "cell_type": "code",
   "execution_count": 27,
   "metadata": {},
   "outputs": [
    {
     "name": "stdout",
     "output_type": "stream",
     "text": [
      "dict_keys(['time', 'spatial', 'coordinates', 'cell_spatial', 'cell_angular', 'cell_lengths', 'cell_angles'])\n",
      "---------------------------------------\n",
      "<class 'netCDF4._netCDF4.Variable'>\n",
      "float32 coordinates(frame, atom, spatial)\n",
      "    units: angstrom\n",
      "unlimited dimensions: frame\n",
      "current shape = (5000, 20, 3)\n",
      "filling on, default _FillValue of 9.969209968386869e+36 used\n",
      "---------------------------------------\n"
     ]
    }
   ],
   "source": [
    "#查看nc文件中的变量\n",
    "print(data.variables.keys())\n",
    "print('---------------------------------------')\n",
    "\n",
    "#查看每个变量的信息\n",
    "print(data.variables['coordinates'])\n",
    "print('---------------------------------------')"
   ]
  },
  {
   "cell_type": "code",
   "execution_count": 28,
   "metadata": {},
   "outputs": [
    {
     "ename": "AttributeError",
     "evalue": "NetCDF: Attribute not found",
     "output_type": "error",
     "traceback": [
      "\u001B[0;31m---------------------------------------------------------------------------\u001B[0m",
      "\u001B[0;31mAttributeError\u001B[0m                            Traceback (most recent call last)",
      "Cell \u001B[0;32mIn[28], line 1\u001B[0m\n\u001B[0;32m----> 1\u001B[0m structure \u001B[38;5;241m=\u001B[39m \u001B[43mpmd\u001B[49m\u001B[38;5;241;43m.\u001B[39;49m\u001B[43mload_file\u001B[49m\u001B[43m(\u001B[49m\u001B[43mdata\u001B[49m\u001B[43m)\u001B[49m\n\u001B[1;32m      3\u001B[0m \u001B[38;5;66;03m# # 获取原子标识符\u001B[39;00m\n\u001B[1;32m      4\u001B[0m \u001B[38;5;66;03m# for atom in structure.atoms:\u001B[39;00m\n\u001B[1;32m      5\u001B[0m \u001B[38;5;66;03m#     atom_id = atom.idx + 1  # 原子索引从0开始，所以加1以使编号从1开始\u001B[39;00m\n\u001B[1;32m      6\u001B[0m \u001B[38;5;66;03m#     print(\"Atom\", atom_id, \":\", atom.name)\u001B[39;00m\n",
      "File \u001B[0;32m~/anaconda3/envs/md/lib/python3.9/site-packages/parmed/formats/registry.py:160\u001B[0m, in \u001B[0;36mload_file\u001B[0;34m(filename, *args, **kwargs)\u001B[0m\n\u001B[1;32m    157\u001B[0m \u001B[38;5;28;01mglobal\u001B[39;00m PARSER_REGISTRY, PARSER_ARGUMENTS\n\u001B[1;32m    159\u001B[0m \u001B[38;5;66;03m# Check that the file actually exists and that we can read it\u001B[39;00m\n\u001B[0;32m--> 160\u001B[0m \u001B[38;5;28;01mif\u001B[39;00m \u001B[43mfilename\u001B[49m\u001B[38;5;241;43m.\u001B[39;49m\u001B[43mstartswith\u001B[49m(\u001B[38;5;124m'\u001B[39m\u001B[38;5;124mhttp://\u001B[39m\u001B[38;5;124m'\u001B[39m) \u001B[38;5;129;01mor\u001B[39;00m filename\u001B[38;5;241m.\u001B[39mstartswith(\u001B[38;5;124m'\u001B[39m\u001B[38;5;124mhttps://\u001B[39m\u001B[38;5;124m'\u001B[39m)\\\n\u001B[1;32m    161\u001B[0m         \u001B[38;5;129;01mor\u001B[39;00m filename\u001B[38;5;241m.\u001B[39mstartswith(\u001B[38;5;124m'\u001B[39m\u001B[38;5;124mftp://\u001B[39m\u001B[38;5;124m'\u001B[39m):\n\u001B[1;32m    162\u001B[0m     \u001B[38;5;66;03m# This raises IOError if it does not exist; assert silences linters\u001B[39;00m\n\u001B[1;32m    163\u001B[0m     \u001B[38;5;28;01mwith\u001B[39;00m closing(genopen(filename)) \u001B[38;5;28;01mas\u001B[39;00m f:\n\u001B[1;32m    164\u001B[0m         \u001B[38;5;28;01massert\u001B[39;00m f\n",
      "File \u001B[0;32msrc/netCDF4/_netCDF4.pyx:3141\u001B[0m, in \u001B[0;36mnetCDF4._netCDF4.Dataset.__getattr__\u001B[0;34m()\u001B[0m\n",
      "File \u001B[0;32msrc/netCDF4/_netCDF4.pyx:3082\u001B[0m, in \u001B[0;36mnetCDF4._netCDF4.Dataset.getncattr\u001B[0;34m()\u001B[0m\n",
      "File \u001B[0;32msrc/netCDF4/_netCDF4.pyx:1532\u001B[0m, in \u001B[0;36mnetCDF4._netCDF4._get_att\u001B[0;34m()\u001B[0m\n",
      "File \u001B[0;32msrc/netCDF4/_netCDF4.pyx:2028\u001B[0m, in \u001B[0;36mnetCDF4._netCDF4._ensure_nc_success\u001B[0;34m()\u001B[0m\n",
      "\u001B[0;31mAttributeError\u001B[0m: NetCDF: Attribute not found"
     ]
    }
   ],
   "source": [
    "structure = pmd.load_file(data)\n",
    "\n",
    "# # 获取原子标识符\n",
    "# for atom in structure.atoms:\n",
    "#     atom_id = atom.idx + 1  # 原子索引从0开始，所以加1以使编号从1开始\n",
    "#     print(\"Atom\", atom_id, \":\", atom.name)\n",
    "\n"
   ]
  },
  {
   "cell_type": "markdown",
   "metadata": {},
   "source": [
    "### 查看蛋白的原子种类"
   ]
  },
  {
   "cell_type": "code",
   "execution_count": 10,
   "metadata": {},
   "outputs": [
    {
     "name": "stdout",
     "output_type": "stream",
     "text": [
      "Collecting package metadata (current_repodata.json): done\n",
      "Solving environment: failed with initial frozen solve. Retrying with flexible solve.\n",
      "Solving environment: failed with repodata from current_repodata.json, will retry with next repodata source.\n",
      "Collecting package metadata (repodata.json): done\n",
      "Solving environment: done\n",
      "\n",
      "\n",
      "==> WARNING: A newer version of conda exists. <==\n",
      "  current version: 4.10.3\n",
      "  latest version: 4.12.0\n",
      "\n",
      "Please update conda by running\n",
      "\n",
      "    $ conda update -n base conda\n",
      "\n",
      "\n",
      "\n",
      "## Package Plan ##\n",
      "\n",
      "  environment location: /opt/conda\n",
      "\n",
      "  added / updated specs:\n",
      "    - mdanalysis\n",
      "\n",
      "\n",
      "The following packages will be downloaded:\n",
      "\n",
      "    package                    |            build\n",
      "    ---------------------------|-----------------\n",
      "    biopython-1.79             |   py37h5e8e339_1         2.6 MB  conda-forge\n",
      "    ca-certificates-2021.10.8  |       ha878542_0         139 KB  conda-forge\n",
      "    certifi-2021.10.8          |   py37h89c1867_1         145 KB  conda-forge\n",
      "    cftime-1.6.0               |   py37h6c7ee08_0         211 KB  conda-forge\n",
      "    curl-7.78.0                |       hea6ffbf_0         148 KB  conda-forge\n",
      "    griddataformats-0.7.0      |     pyhd8ed1ab_0         2.2 MB  conda-forge\n",
      "    gsd-2.5.1                  |   py37hb1e94ed_0         131 KB  conda-forge\n",
      "    hdf4-4.2.15                |       h10796ff_3         950 KB  conda-forge\n",
      "    libnetcdf-4.8.1            |nompi_hcd642e3_100         1.4 MB  conda-forge\n",
      "    libzip-1.8.0               |       h4de3113_1         126 KB  conda-forge\n",
      "    mdanalysis-2.1.0           |   py37hd23a5d3_1         2.1 MB  conda-forge\n",
      "    mmtf-python-1.1.2          |             py_0          21 KB  conda-forge\n",
      "    mrcfile-1.3.0              |     pyh44b312d_0          32 KB  conda-forge\n",
      "    netcdf4-1.5.7              |nompi_py37h078fd70_101         530 KB  conda-forge\n",
      "    openssl-1.1.1n             |       h166bdaf_0         2.1 MB  conda-forge\n",
      "    ------------------------------------------------------------\n",
      "                                           Total:        12.9 MB\n",
      "\n",
      "The following NEW packages will be INSTALLED:\n",
      "\n",
      "  biopython          conda-forge/linux-64::biopython-1.79-py37h5e8e339_1\n",
      "  cftime             conda-forge/linux-64::cftime-1.6.0-py37h6c7ee08_0\n",
      "  curl               conda-forge/linux-64::curl-7.78.0-hea6ffbf_0\n",
      "  griddataformats    conda-forge/noarch::griddataformats-0.7.0-pyhd8ed1ab_0\n",
      "  gsd                conda-forge/linux-64::gsd-2.5.1-py37hb1e94ed_0\n",
      "  hdf4               conda-forge/linux-64::hdf4-4.2.15-h10796ff_3\n",
      "  libnetcdf          conda-forge/linux-64::libnetcdf-4.8.1-nompi_hcd642e3_100\n",
      "  libzip             conda-forge/linux-64::libzip-1.8.0-h4de3113_1\n",
      "  mdanalysis         conda-forge/linux-64::mdanalysis-2.1.0-py37hd23a5d3_1\n",
      "  mmtf-python        conda-forge/noarch::mmtf-python-1.1.2-py_0\n",
      "  mrcfile            conda-forge/noarch::mrcfile-1.3.0-pyh44b312d_0\n",
      "  netcdf4            conda-forge/linux-64::netcdf4-1.5.7-nompi_py37h078fd70_101\n",
      "\n",
      "The following packages will be UPDATED:\n",
      "\n",
      "  ca-certificates    pkgs/main::ca-certificates-2021.7.5-h~ --> conda-forge::ca-certificates-2021.10.8-ha878542_0\n",
      "  certifi            pkgs/main::certifi-2021.5.30-py37h06a~ --> conda-forge::certifi-2021.10.8-py37h89c1867_1\n",
      "  openssl              pkgs/main::openssl-1.1.1k-h27cfd23_0 --> conda-forge::openssl-1.1.1n-h166bdaf_0\n",
      "\n",
      "\n",
      "\n",
      "Downloading and Extracting Packages\n",
      "certifi-2021.10.8    | 145 KB    | ##################################### | 100% \n",
      "cftime-1.6.0         | 211 KB    | ##################################### | 100% \n",
      "netcdf4-1.5.7        | 530 KB    | ##################################### | 100% \n",
      "hdf4-4.2.15          | 950 KB    | ##################################### | 100% \n",
      "mrcfile-1.3.0        | 32 KB     | ##################################### | 100% \n",
      "griddataformats-0.7. | 2.2 MB    | ##################################### | 100% \n",
      "biopython-1.79       | 2.6 MB    | ##################################### | 100% \n",
      "mmtf-python-1.1.2    | 21 KB     | ##################################### | 100% \n",
      "libzip-1.8.0         | 126 KB    | ##################################### | 100% \n",
      "gsd-2.5.1            | 131 KB    | ##################################### | 100% \n",
      "curl-7.78.0          | 148 KB    | ##################################### | 100% \n",
      "ca-certificates-2021 | 139 KB    | ##################################### | 100% \n",
      "libnetcdf-4.8.1      | 1.4 MB    | ##################################### | 100% \n",
      "openssl-1.1.1n       | 2.1 MB    | ##################################### | 100% \n",
      "mdanalysis-2.1.0     | 2.1 MB    | ##################################### | 100% \n",
      "Preparing transaction: done\n",
      "Verifying transaction: done\n",
      "Executing transaction: done\n"
     ]
    }
   ],
   "source": [
    "! conda install -c conda-forge mdanalysis --y"
   ]
  },
  {
   "cell_type": "code",
   "execution_count": 11,
   "metadata": {},
   "outputs": [],
   "source": [
    "import MDAnalysis as mda"
   ]
  },
  {
   "cell_type": "code",
   "execution_count": 12,
   "metadata": {},
   "outputs": [
    {
     "name": "stderr",
     "output_type": "stream",
     "text": [
      "/opt/conda/lib/python3.7/site-packages/MDAnalysis/topology/PDBParser.py:317: UserWarning: Element information is missing, elements attribute will not be populated. If needed these can be guessed using MDAnalysis.topology.guessers.\n",
      "  warnings.warn(\"Element information is missing, elements attribute \"\n"
     ]
    },
    {
     "data": {
      "text/plain": [
       "32323"
      ]
     },
     "execution_count": 12,
     "metadata": {},
     "output_type": "execute_result"
    }
   ],
   "source": [
    "u = mda.Universe('../data/com_wat.pdb')\n",
    "len(u.atoms)"
   ]
  },
  {
   "cell_type": "code",
   "execution_count": 56,
   "metadata": {},
   "outputs": [
    {
     "name": "stdout",
     "output_type": "stream",
     "text": [
      "5317 5284 33\n"
     ]
    }
   ],
   "source": [
    "# 去掉水和钠离子，德睿数据中没有保留金属离子，最后选取ligand\n",
    "u = u.select_atoms(\"not resname WAT and not resname Na+\")\n",
    "u_ligand = u.select_atoms(\"resname LIA\")\n",
    "u_protein = u.select_atoms(\"not resname LIA\")\n",
    "print(len(u), len(u_protein), len(u_ligand))"
   ]
  },
  {
   "cell_type": "code",
   "execution_count": 62,
   "metadata": {},
   "outputs": [
    {
     "data": {
      "text/plain": [
       "894"
      ]
     },
     "execution_count": 62,
     "metadata": {},
     "output_type": "execute_result"
    }
   ],
   "source": [
    "import torch\n",
    "dist = torch.cdist(torch.tensor(u_protein.atoms.positions), torch.tensor(u_ligand.atoms.positions))\n",
    "ind = (torch.sum(dist < 10, dim=-1) > 0)\n",
    "ind = torch.cat((ind, torch.ones(len(u_ligand)))).bool().numpy()\n",
    "sum(ind)"
   ]
  },
  {
   "cell_type": "code",
   "execution_count": 11,
   "metadata": {},
   "outputs": [],
   "source": [
    "with mda.Writer(\"../data/1TBF.pdb\", len(u)) as W:\n",
    "    W.write(u)"
   ]
  },
  {
   "cell_type": "markdown",
   "metadata": {},
   "source": [
    "### 和标准PDB数据集比对"
   ]
  },
  {
   "cell_type": "code",
   "execution_count": 11,
   "metadata": {},
   "outputs": [
    {
     "data": {
      "text/plain": [
       "2698"
      ]
     },
     "execution_count": 11,
     "metadata": {},
     "output_type": "execute_result"
    }
   ],
   "source": [
    "pdb = mda.Universe('../data/1TBF.pdb')\n",
    "len(pdb.atoms) "
   ]
  },
  {
   "cell_type": "markdown",
   "metadata": {},
   "source": [
    "### 写入xtc文件"
   ]
  },
  {
   "cell_type": "code",
   "execution_count": 15,
   "metadata": {},
   "outputs": [
    {
     "data": {
      "text/plain": [
       "(5317, 3)"
      ]
     },
     "execution_count": 15,
     "metadata": {},
     "output_type": "execute_result"
    }
   ],
   "source": [
    "u.atoms.positions.shape"
   ]
  },
  {
   "cell_type": "code",
   "execution_count": 13,
   "metadata": {},
   "outputs": [
    {
     "data": {
      "text/plain": [
       "array(['N', 'H1', 'H2', ..., 'C32', 'C33', 'C34'], dtype=object)"
      ]
     },
     "execution_count": 13,
     "metadata": {},
     "output_type": "execute_result"
    }
   ],
   "source": [
    "u.atoms.names"
   ]
  },
  {
   "cell_type": "code",
   "execution_count": 14,
   "metadata": {},
   "outputs": [
    {
     "data": {
      "text/plain": [
       "(32323, 3)"
      ]
     },
     "execution_count": 14,
     "metadata": {},
     "output_type": "execute_result"
    }
   ],
   "source": [
    "nc_obj.variables['coordinates'][0].shape"
   ]
  },
  {
   "cell_type": "code",
   "execution_count": 16,
   "metadata": {},
   "outputs": [
    {
     "name": "stderr",
     "output_type": "stream",
     "text": [
      "/opt/conda/lib/python3.7/site-packages/MDAnalysis/coordinates/base.py:892: UserWarning: Reader has no dt information, set to 1.0 ps\n",
      "  warnings.warn(\"Reader has no dt information, set to 1.0 ps\")\n"
     ]
    }
   ],
   "source": [
    "with mda.Writer(\"1TBF.xtc\", len(u)) as W:\n",
    "    for ts in nc_obj.variables['coordinates'][:, :len(u)]:\n",
    "        u.atoms.positions = ts\n",
    "        W.write(u)"
   ]
  },
  {
   "cell_type": "code",
   "execution_count": 40,
   "metadata": {},
   "outputs": [],
   "source": [
    "tra = mda.Universe('1TBF.xtc')\n",
    "tra.trajectory"
   ]
  },
  {
   "cell_type": "markdown",
   "metadata": {},
   "source": [
    "### 读取MioIO上的文件"
   ]
  },
  {
   "cell_type": "code",
   "execution_count": 39,
   "metadata": {},
   "outputs": [
    {
     "name": "stdout",
     "output_type": "stream",
     "text": [
      "Collecting boto3\n",
      "  Downloading boto3-1.21.29-py3-none-any.whl (132 kB)\n",
      "\u001B[K     |████████████████████████████████| 132 kB 382 kB/s eta 0:00:01\n",
      "\u001B[?25hCollecting jmespath<2.0.0,>=0.7.1\n",
      "  Using cached jmespath-1.0.0-py3-none-any.whl (23 kB)\n",
      "Collecting s3transfer<0.6.0,>=0.5.0\n",
      "  Using cached s3transfer-0.5.2-py3-none-any.whl (79 kB)\n",
      "Collecting botocore<1.25.0,>=1.24.29\n",
      "  Downloading botocore-1.24.29-py3-none-any.whl (8.6 MB)\n",
      "\u001B[K     |████████████████████████████████| 8.6 MB 1.3 MB/s eta 0:00:01\n",
      "\u001B[?25hRequirement already satisfied: urllib3<1.27,>=1.25.4 in /opt/conda/lib/python3.7/site-packages (from botocore<1.25.0,>=1.24.29->boto3) (1.26.6)\n",
      "Requirement already satisfied: python-dateutil<3.0.0,>=2.1 in /opt/conda/lib/python3.7/site-packages (from botocore<1.25.0,>=1.24.29->boto3) (2.8.2)\n",
      "Requirement already satisfied: six>=1.5 in /opt/conda/lib/python3.7/site-packages (from python-dateutil<3.0.0,>=2.1->botocore<1.25.0,>=1.24.29->boto3) (1.16.0)\n",
      "Installing collected packages: jmespath, botocore, s3transfer, boto3\n",
      "Successfully installed boto3-1.21.29 botocore-1.24.29 jmespath-1.0.0 s3transfer-0.5.2\n"
     ]
    }
   ],
   "source": [
    "! pip install boto3"
   ]
  },
  {
   "cell_type": "code",
   "execution_count": 63,
   "metadata": {},
   "outputs": [],
   "source": [
    "import os\n",
    "import torch\n",
    "import numpy as np \n",
    "import boto3\n",
    "from botocore.client import Config"
   ]
  },
  {
   "cell_type": "code",
   "execution_count": 64,
   "metadata": {},
   "outputs": [],
   "source": [
    "BUCKET_NAME=\"md-data\"\n",
    "FOLDER_NAME=\"junjie/md/build\"\n",
    "s3 = boto3.client('s3', endpoint_url='http://minio-headless.minio.svc.cluster.local:9000',\n",
    "                  aws_access_key_id=\"W6P4O6BRH8TD74ZLSALW\",\n",
    "                  aws_secret_access_key=\"WvEegImgTibaBB+5IZJ7HCNK7GXvNV0sHcEnJy07\",\n",
    "                  config=Config(signature_version='s3v4'))"
   ]
  },
  {
   "cell_type": "code",
   "execution_count": 65,
   "metadata": {},
   "outputs": [
    {
     "data": {
      "text/plain": [
       "[{'Name': 'md-data',\n",
       "  'CreationDate': datetime.datetime(2022, 2, 11, 3, 4, 11, 175000, tzinfo=tzlocal())},\n",
       " {'Name': 'mindrank-public',\n",
       "  'CreationDate': datetime.datetime(2022, 1, 20, 13, 46, 45, 7000, tzinfo=tzlocal())}]"
      ]
     },
     "execution_count": 65,
     "metadata": {},
     "output_type": "execute_result"
    }
   ],
   "source": [
    "s3.list_buckets()['Buckets']"
   ]
  },
  {
   "cell_type": "code",
   "execution_count": 66,
   "metadata": {},
   "outputs": [
    {
     "name": "stdout",
     "output_type": "stream",
     "text": [
      "PDB name: ['1TBF', '1TXI', '1ZKL', '1ZP5', '2E1Q', '2GH5', '2I0E', '2JED', '2JIF', '2NO6', '2Z5X', '3B6H', '3D4S', '3DPK', '3FVO', '3I8V', '3IAR', '3IW4', '3JZB', '3LW0', '3OLL', '3QXM', '3ROD', '3TKM', '3W2T', '4DJH', '4IAQ', '4IB4', '4MUW', '4NQD', '4PXZ', '4QTB', '4RWD', '4UDA', '4UXQ', '5AFJ', '5AX3', '5C37', '5CGD', '5DIQ', '5DSG', '5DYY', '5EDU', '6R4V', '6SSQ', '6WV3', '6X40', '7AOS', '7AYM', '7B0V', '7BR3', '7BVQ', '7BW1', '7C7S', '7CMV', '7CX3', '7DFW', '7DHL', '7EO4', '7JVP', '7JVR', '7LRC', '7VNR']\n"
     ]
    }
   ],
   "source": [
    "result = s3.list_objects(Bucket=BUCKET_NAME, Prefix=\"%s/\" % FOLDER_NAME, Delimiter='/')\n",
    "name = []\n",
    "for o in result.get('CommonPrefixes'):\n",
    "    name.append(o.get('Prefix').split('/')[-2])\n",
    "print('PDB name:', name) "
   ]
  },
  {
   "cell_type": "code",
   "execution_count": null,
   "metadata": {},
   "outputs": [],
   "source": [
    "# 遍历所有的pdb\n",
    "for i in name:\n",
    "    objects_in_bucket = s3.list_objects_v2(Bucket=BUCKET_NAME, Prefix=\"%s/\" % FOLDER_NAME + i)['Contents']\n",
    "    for obj in objects_in_bucket:\n",
    "        key = obj['Key']\n",
    "        if key.endswith('prod1.nc') or key.endswith('com_wat.pdb'):\n",
    "            print(\"Retrieving file %s\" % key)\n",
    "        else:\n",
    "            continue        \n",
    "        try:\n",
    "            os.mkdir(os.path.join('md_data/', i))\n",
    "        except:\n",
    "            pass\n",
    "        \n",
    "        if key.endswith('prod1.nc'):\n",
    "            s3.download_file(BUCKET_NAME, '/' + key, 'md_data/' + i + '/' + i + '.nc')\n",
    "        elif key.endswith('com_wat.pdb'):\n",
    "            s3.download_file(BUCKET_NAME, '/' + key, 'md_data/' + i + '/' + i + '.pdb') "
   ]
  },
  {
   "cell_type": "code",
   "execution_count": null,
   "metadata": {},
   "outputs": [
    {
     "name": "stderr",
     "output_type": "stream",
     "text": [
      "/opt/conda/lib/python3.7/site-packages/MDAnalysis/topology/PDBParser.py:317: UserWarning: Element information is missing, elements attribute will not be populated. If needed these can be guessed using MDAnalysis.topology.guessers.\n",
      "  warnings.warn(\"Element information is missing, elements attribute \"\n",
      "/opt/conda/lib/python3.7/site-packages/MDAnalysis/topology/guessers.py:146: UserWarning: Failed to guess the mass for the following atom types: AL\n",
      "  warnings.warn(\"Failed to guess the mass for the following atom types: {}\".format(atom_type))\n"
     ]
    }
   ],
   "source": [
    "atom_dict = {'H':1, 'C':6, 'N':7, 'O':8}\n",
    "file_path = 'md_data/'\n",
    "file_list = os.listdir(file_path)\n",
    "\n",
    "for file in file_list:\n",
    "    if len(file) > 4:\n",
    "        continue\n",
    "    nc_obj = Dataset(file_path + file + '/' + file + '.nc')\n",
    "    u = mda.Universe(file_path + file + '/' + file + '.pdb')\n",
    "    u = u.select_atoms(\"not resname WAT and not resname Na+\")\n",
    "    \n",
    "    u_ligand = u.select_atoms(\"resname LIA\")\n",
    "    u_protein = u.select_atoms(\"not resname LIA\") \n",
    "    \n",
    "    # atom3d选的是6A距离\n",
    "    dist = torch.cdist(torch.tensor(u_protein.atoms.positions), torch.tensor(u_ligand.atoms.positions))\n",
    "    mask = (torch.sum(dist < 6, dim=-1) > 0)\n",
    "    mask = torch.cat((mask, torch.ones(len(u_ligand)))).bool().numpy()\n",
    "    \n",
    "    atoms = [x[0] for x in u.atoms.names[:len(u)]]\n",
    "    tr = {'name': file}\n",
    "    tr['z'] = atoms\n",
    "    tr['R'] = nc_obj.variables['coordinates'][:, :len(u)][:, mask]    \n",
    "    # 单个保存，避免内存爆炸\n",
    "    with open(f'data/{file}.npy', 'wb') as f:\n",
    "        np.save(f, tr)\n",
    "    \n",
    "print(f'{len(file_list)} proteins are saved.')"
   ]
  },
  {
   "cell_type": "code",
   "execution_count": 118,
   "metadata": {},
   "outputs": [],
   "source": [
    "a = np.load('md_pdb.npy', allow_pickle=True)"
   ]
  },
  {
   "cell_type": "code",
   "execution_count": null,
   "metadata": {},
   "outputs": [],
   "source": []
  },
  {
   "cell_type": "code",
   "execution_count": null,
   "metadata": {},
   "outputs": [],
   "source": []
  },
  {
   "cell_type": "code",
   "execution_count": null,
   "metadata": {},
   "outputs": [],
   "source": []
  }
 ],
 "metadata": {
  "kernelspec": {
   "display_name": "Python 3",
   "language": "python",
   "name": "python3"
  },
  "language_info": {
   "codemirror_mode": {
    "name": "ipython",
    "version": 3
   },
   "file_extension": ".py",
   "mimetype": "text/x-python",
   "name": "python",
   "nbconvert_exporter": "python",
   "pygments_lexer": "ipython3",
   "version": "3.7.4"
  },
  "toc": {
   "base_numbering": 1,
   "nav_menu": {},
   "number_sections": true,
   "sideBar": true,
   "skip_h1_title": false,
   "title_cell": "Table of Contents",
   "title_sidebar": "Contents",
   "toc_cell": false,
   "toc_position": {},
   "toc_section_display": true,
   "toc_window_display": false
  },
  "toc-autonumbering": false,
  "toc-showmarkdowntxt": false
 },
 "nbformat": 4,
 "nbformat_minor": 5
}
